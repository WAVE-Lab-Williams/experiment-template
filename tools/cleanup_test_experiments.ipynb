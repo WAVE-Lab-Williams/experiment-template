{
 "cells": [
  {
   "cell_type": "markdown",
   "metadata": {},
   "source": [
    "# WAVE Test Experiment Cleanup\n",
    "\n",
    "This notebook performs blanket deletion of ALL experiments with the \"test\" tag.\n",
    "\n",
    "**⚠️ ADMIN ONLY**: This notebook requires an ADMIN_API_KEY with deletion permissions.\n",
    "\n",
    "## What this does:\n",
    "1. Finds all experiments tagged with \"test\"\n",
    "2. Shows data counts for each experiment  \n",
    "3. **DELETES ALL test experiments and their data**\n",
    "4. Optionally deletes test experiment types\n",
    "\n",
    "**Prerequisites**: Add ADMIN_API_KEY to your tools/.env file"
   ]
  },
  {
   "cell_type": "code",
   "execution_count": 1,
   "metadata": {},
   "outputs": [],
   "source": [
    "from utils import load_admin_environment_variables, get_user_confirmation\n",
    "from wave_client import WaveClient\n",
    "import pandas as pd\n",
    "import sys"
   ]
  },
  {
   "cell_type": "code",
   "execution_count": 2,
   "metadata": {},
   "outputs": [
    {
     "name": "stdout",
     "output_type": "stream",
     "text": [
      "⚠️  ADMIN CLEANUP NOTEBOOK\n",
      "This requires ADMIN_API_KEY with deletion permissions\n",
      "\n",
      "Present working directory: /Users/doug/Documents/code/wave/experiment-template/tools\n",
      "Loading environment variables from /Users/doug/Documents/code/wave/experiment-template/tools/.env\n",
      "📡 Backend URL: https://wave-backend-production-8781.up.railway.app\n",
      "🔑 Using ADMIN key ending in: ...Mm45\n",
      "✅ Admin credentials loaded\n"
     ]
    }
   ],
   "source": [
    "# Load admin environment variables\n",
    "print(\"⚠️  ADMIN CLEANUP NOTEBOOK\")\n",
    "print(\"This requires ADMIN_API_KEY with deletion permissions\\n\")\n",
    "\n",
    "ADMIN_API_KEY, WAVE_BACKEND_URL = load_admin_environment_variables()\n",
    "\n",
    "print(f\"📡 Backend URL: {WAVE_BACKEND_URL}\")\n",
    "print(f\"🔑 Using ADMIN key ending in: ...{ADMIN_API_KEY[-4:]}\")\n",
    "print(\"✅ Admin credentials loaded\")"
   ]
  },
  {
   "cell_type": "code",
   "execution_count": 3,
   "metadata": {},
   "outputs": [
    {
     "name": "stdout",
     "output_type": "stream",
     "text": [
      "🔍 Finding ALL experiments with 'test' tag for deletion...\n",
      "\n",
      "✅ No test experiments found - nothing to clean up!\n"
     ]
    }
   ],
   "source": [
    "# Find all test experiments (blanket deletion approach)\n",
    "print(\"🔍 Finding ALL experiments with 'test' tag for deletion...\\n\")\n",
    "\n",
    "\n",
    "async def get_test_experiments():\n",
    "    async with WaveClient(api_key=ADMIN_API_KEY, base_url=WAVE_BACKEND_URL) as client:\n",
    "        try:\n",
    "            all_experiments = await client.experiments.list(skip=0, limit=1000)\n",
    "            # Blanket selection: ALL experiments with 'test' tag will be deleted\n",
    "            test_experiments = [exp for exp in all_experiments if \"test\" in exp.get(\"tags\", [])]\n",
    "            return test_experiments\n",
    "        except Exception as e:\n",
    "            print(f\"❌ Error fetching experiments: {e}\")\n",
    "            sys.exit(\"Failed to connect - check your ADMIN_API_KEY\")\n",
    "\n",
    "\n",
    "test_experiments = await get_test_experiments()\n",
    "\n",
    "if not test_experiments:\n",
    "    print(\"✅ No test experiments found - nothing to clean up!\")\n",
    "else:\n",
    "    print(f\"⚠️  Found {len(test_experiments)} experiments tagged 'test' - ALL WILL BE DELETED:\")\n",
    "\n",
    "    for i, exp in enumerate(test_experiments, 1):\n",
    "        created_date = exp.get(\"created_at\", \"Unknown\")[:10]\n",
    "        print(f\"  {i}. {exp['description']}\")\n",
    "        print(f\"     ID: {exp['uuid']} | Created: {created_date}\")\n",
    "        print(f\"     Tags: {', '.join(exp.get('tags', []))}\")\n",
    "        print()"
   ]
  },
  {
   "cell_type": "code",
   "execution_count": 4,
   "metadata": {},
   "outputs": [],
   "source": [
    "# Blanket deletion of all test experiments\n",
    "if test_experiments:\n",
    "    print(\"🔍 Checking data counts for deletion...\\n\")\n",
    "\n",
    "    # Get data counts for each test experiment\n",
    "    experiment_data = []\n",
    "\n",
    "    async with WaveClient(api_key=ADMIN_API_KEY, base_url=WAVE_BACKEND_URL) as client:\n",
    "        for exp in test_experiments:\n",
    "            try:\n",
    "                data_df = await client.experiment_data.get_all_data(experiment_id=exp[\"uuid\"])\n",
    "                data_count = len(data_df)\n",
    "                participant_count = data_df[\"participant_id\"].nunique() if data_count > 0 else 0\n",
    "\n",
    "                experiment_data.append(\n",
    "                    {\n",
    "                        \"experiment\": exp,\n",
    "                        \"data_df\": data_df,\n",
    "                        \"data_count\": data_count,\n",
    "                        \"participant_count\": participant_count,\n",
    "                    }\n",
    "                )\n",
    "\n",
    "                print(f\"📋 {exp['description']}\")\n",
    "                print(f\"   Data points: {data_count} | Participants: {participant_count}\")\n",
    "                print()\n",
    "\n",
    "            except Exception as e:\n",
    "                print(f\"⚠️  Could not get data for {exp['uuid']}: {e}\")\n",
    "                experiment_data.append(\n",
    "                    {\n",
    "                        \"experiment\": exp,\n",
    "                        \"data_df\": pd.DataFrame(),\n",
    "                        \"data_count\": 0,\n",
    "                        \"participant_count\": 0,\n",
    "                    }\n",
    "                )\n",
    "\n",
    "    total_data_points = sum(item[\"data_count\"] for item in experiment_data)\n",
    "\n",
    "    print(f\"🚨 BLANKET DELETION WARNING\")\n",
    "    print(f\"About to PERMANENTLY DELETE:\")\n",
    "    print(f\"  • {len(test_experiments)} test experiments\")\n",
    "    print(f\"  • {total_data_points} data points\")\n",
    "    print(f\"\\n💥 This will delete ALL experiments with 'test' tag - NO EXCEPTIONS\")\n",
    "    print(f\"💡 This action cannot be undone!\")"
   ]
  },
  {
   "cell_type": "code",
   "execution_count": 5,
   "metadata": {},
   "outputs": [
    {
     "name": "stdout",
     "output_type": "stream",
     "text": [
      "❌ Blanket deletion cancelled\n"
     ]
    }
   ],
   "source": [
    "if test_experiments and get_user_confirmation(\n",
    "    \"\\nProceed with BLANKET deletion of all test experiments?\", None\n",
    "):\n",
    "    print(\"\\n🚀 Starting blanket deletion...\\n\")\n",
    "\n",
    "    deleted_count = 0\n",
    "    data_deleted_count = 0\n",
    "    failed_deletions = []\n",
    "\n",
    "    async with WaveClient(api_key=ADMIN_API_KEY, base_url=WAVE_BACKEND_URL) as client:\n",
    "        for item in experiment_data:\n",
    "            exp = item[\"experiment\"]\n",
    "            data_df = item[\"data_df\"]\n",
    "            experiment_id = exp[\"uuid\"]\n",
    "\n",
    "            try:\n",
    "                print(f\"🗑️  Deleting: {exp['description']}\")\n",
    "\n",
    "                # Delete all data first\n",
    "                if len(data_df) > 0:\n",
    "                    for _, row in data_df.iterrows():\n",
    "                        try:\n",
    "                            await client.experiment_data.delete_row(experiment_id, int(row[\"id\"]))\n",
    "                            data_deleted_count += 1\n",
    "                        except Exception as e:\n",
    "                            print(f\"    ⚠️  Failed to delete data row: {e}\")\n",
    "\n",
    "                # Delete experiment\n",
    "                await client.experiments.delete(experiment_id)\n",
    "                deleted_count += 1\n",
    "                print(f\"    ✅ Deleted experiment {experiment_id}\")\n",
    "\n",
    "            except Exception as e:\n",
    "                print(f\"    ❌ Failed to delete {experiment_id}: {e}\")\n",
    "                failed_deletions.append(exp)\n",
    "\n",
    "    print(f\"\\n📊 Blanket Deletion Summary:\")\n",
    "    print(f\"✅ Successfully deleted: {deleted_count}/{len(test_experiments)} experiments\")\n",
    "    print(f\"🗑️  Deleted data points: {data_deleted_count}\")\n",
    "\n",
    "    if failed_deletions:\n",
    "        print(f\"❌ Failed to delete {len(failed_deletions)} experiments:\")\n",
    "        for exp in failed_deletions:\n",
    "            print(f\"  - {exp['description']} (ID: {exp['uuid']})\")\n",
    "\n",
    "    print(f\"\\n✅ Blanket deletion of test experiments complete!\")\n",
    "\n",
    "else:\n",
    "    print(\"❌ Blanket deletion cancelled\")"
   ]
  },
  {
   "cell_type": "code",
   "execution_count": 6,
   "metadata": {},
   "outputs": [
    {
     "name": "stdout",
     "output_type": "stream",
     "text": [
      "\n",
      "🔍 Checking for test experiment types...\n",
      "✅ No test experiment types found\n",
      "\n",
      "🎉 All cleanup operations complete!\n"
     ]
    }
   ],
   "source": [
    "# Optional: Clean up test experiment types\n",
    "print(\"\\n🔍 Checking for test experiment types...\")\n",
    "\n",
    "\n",
    "async def get_test_experiment_types():\n",
    "    async with WaveClient(api_key=ADMIN_API_KEY, base_url=WAVE_BACKEND_URL) as client:\n",
    "        try:\n",
    "            all_types = await client.experiment_types.list(skip=0, limit=1000)\n",
    "            # Look for types with 'test' in name or starting with 'TEST_'\n",
    "            test_types = [\n",
    "                t for t in all_types if \"test\" in t[\"name\"].lower() or t[\"name\"].startswith(\"TEST_\")\n",
    "            ]\n",
    "            return test_types\n",
    "        except Exception as e:\n",
    "            print(f\"❌ Error fetching experiment types: {e}\")\n",
    "            return []\n",
    "\n",
    "\n",
    "test_types = await get_test_experiment_types()\n",
    "\n",
    "if test_types:\n",
    "    print(f\"📋 Found {len(test_types)} test experiment types:\")\n",
    "    for t in test_types:\n",
    "        print(f\"  • {t['name']} (Table: {t['table_name']}) [ID: {t['id']}]\")\n",
    "\n",
    "    if get_user_confirmation(\"\\nDelete these test experiment types too?\", None):\n",
    "        print(\"\\n🗑️  Deleting test experiment types...\")\n",
    "\n",
    "        type_deleted_count = 0\n",
    "        async with WaveClient(api_key=ADMIN_API_KEY, base_url=WAVE_BACKEND_URL) as client:\n",
    "            for exp_type in test_types:\n",
    "                try:\n",
    "                    await client.experiment_types.delete(exp_type[\"id\"])\n",
    "                    type_deleted_count += 1\n",
    "                    print(f\"  ✅ Deleted: {exp_type['name']}\")\n",
    "                except Exception as e:\n",
    "                    print(f\"  ❌ Failed to delete {exp_type['name']}: {e}\")\n",
    "\n",
    "        print(f\"\\n📊 Deleted {type_deleted_count}/{len(test_types)} experiment types\")\n",
    "    else:\n",
    "        print(\"ℹ️  Keeping experiment types\")\n",
    "else:\n",
    "    print(\"✅ No test experiment types found\")\n",
    "\n",
    "print(\"\\n🎉 All cleanup operations complete!\")"
   ]
  }
 ],
 "metadata": {
  "kernelspec": {
   "display_name": "setup-experiment",
   "language": "python",
   "name": "python3"
  },
  "language_info": {
   "codemirror_mode": {
    "name": "ipython",
    "version": 3
   },
   "file_extension": ".py",
   "mimetype": "text/x-python",
   "name": "python",
   "nbconvert_exporter": "python",
   "pygments_lexer": "ipython3",
   "version": "3.12.11"
  }
 },
 "nbformat": 4,
 "nbformat_minor": 4
}
