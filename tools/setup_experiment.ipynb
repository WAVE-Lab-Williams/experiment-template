{
 "cells": [
  {
   "cell_type": "markdown",
   "metadata": {},
   "source": [
    "# Experiment Setup and Validation Notebook\n",
    "\n",
    "This notebook walks you through setting up a JSPsych experiment with WAVE backend integration. It will:\n",
    "\n",
    "1. **Setup Phase**: Guide you through installing dependencies and testing your experiment locally\n",
    "2. **Schema Definition**: Help you define the experiment data schema that matches your experiment's output\n",
    "3. **Backend Integration**: Create and test experiment types in the WAVE backend\n",
    "4. **Validation**: Run a complete test cycle to ensure data logging works correctly\n",
    "5. **Production Setup**: Create your final experiment for real data collection\n",
    "\n",
    "**Prerequisites**: This notebook assumes you have already (mostly) set up your experiment code and WAVE client integration in `src/js/integrations/wave-client.js`. Also, copy `tools/.env.example` and rename it `tools/.env`, taking care to fill out the API keys\n",
    "\n",
    "**Important**: Only share EXPERIMENTEE-level API keys with participants. Keep RESEARCHER-level keys secure and private."
   ]
  },
  {
   "cell_type": "markdown",
   "metadata": {},
   "source": [
    "## Setup Instructions\n",
    "\n",
    "### 1. Install uv Package Manager\n",
    "\n",
    "First, install [uv](https://docs.astral.sh/uv/) - a fast Python package manager and project manager:\n",
    "\n",
    "```bash\n",
    "# On macOS/Linux:\n",
    "curl -LsSf https://astral.sh/uv/install.sh | sh\n",
    "\n",
    "# On Windows:\n",
    "powershell -ExecutionPolicy ByPass -c \"irm https://astral.sh/uv/install.ps1 | iex\"\n",
    "```"
   ]
  },
  {
   "cell_type": "markdown",
   "metadata": {},
   "source": [
    "### 2. Install Project Dependencies\n",
    "\n",
    "In the root directory of this project, install the Python dependencies:\n",
    "\n",
    "```bash\n",
    "uv sync\n",
    "```\n",
    "\n",
    "This will install all dependencies defined in `pyproject.toml`, which specifies the packages needed for experiment setup, data validation, and WAVE backend integration.\n",
    "\n",
    "### 3. Understanding UV Virtual Environment\n",
    "\n",
    "UV automatically creates and manages a virtual environment in the `.venv` folder. This keeps your project dependencies isolated from your system Python installation.\n",
    "\n",
    "**Important**: If you encounter any package conflicts or want a completely clean slate, simply delete the `.venv` folder and `uv.lock` file and run `uv sync` again to recreate it from scratch.\n",
    "\n",
    "### 4. Running This Notebook\n",
    "\n",
    "You have multiple options for running this notebook:\n",
    "\n",
    "**Option A: VS Code Jupyter Extension**\n",
    "1. Install the [Jupyter VSCode extension](https://marketplace.visualstudio.com/items?itemName=ms-toolsai.jupyter)\n",
    "2. Open this notebook file in VS Code\n",
    "3. When prompted to select a kernel, choose the Python interpreter from the `.venv` folder:\n",
    "   - Click \"Select Kernel\" in the top-right of the notebook\n",
    "   - Choose \"Python Environments...\"\n",
    "   - Select the interpreter at `.venv/bin/python` (or `.venv/Scripts/python.exe` on Windows)\n",
    "4. VS Code will use this virtual environment for all notebook cells\n",
    "\n",
    "\n",
    "**Option B: Jupyter Lab/Notebook**\n",
    "```bash\n",
    "uv tool run jupyter lab\n",
    "```\n",
    "This will install dependencies and launch a Jupyter Lab instance in your browser. Navigate to `setup_experiment.ipynb` in the Jupyter file explorer and run this notebook from there\n",
    "\n",
    "\n",
    "**Option C: PyCharm IDE**\n",
    "1. Open PyCharm and select \"Open\" to open this project folder\n",
    "2. PyCharm should automatically detect the `pyproject.toml` file and prompt you to configure the Python\n",
    "interpreter\n",
    "1. If not prompted automatically:\n",
    "  - Go to File → Settings (or PyCharm → Preferences on macOS)\n",
    "  - Navigate to Project → Python Interpreter\n",
    "  - Click the gear icon → Add\n",
    "  - Select \"Existing environment\"\n",
    "  - Browse to `.venv/bin/python` (or `.venv/Scripts/python.exe` on Windows)\n",
    "  - Click OK to apply\n",
    "2. Open the `tools/setup_experiment.ipynb` file\n",
    "\n",
    "\n",
    "\n",
    "### 5. Verify Installation"
   ]
  },
  {
   "cell_type": "code",
   "execution_count": 1,
   "metadata": {},
   "outputs": [],
   "source": [
    "from wave_client import WaveClient"
   ]
  },
  {
   "cell_type": "markdown",
   "metadata": {},
   "source": [
    "## Phase 1: Local Experiment Testing\n",
    "\n",
    "### Test Your Experiment Locally\n",
    "\n",
    "First, let's open your experiment in a web browser to test it locally (without WAVE logging)."
   ]
  },
  {
   "cell_type": "code",
   "execution_count": null,
   "metadata": {},
   "outputs": [],
   "source": [
    "import webbrowser\n",
    "import http.server\n",
    "import socketserver\n",
    "import threading\n",
    "import time\n",
    "from pathlib import Path\n",
    "\n",
    "# Configuration: Modify this path if your experiment root is located elsewhere\n",
    "EXPERIMENT_ROOT = Path(\"../\").resolve()\n",
    "PORT = 8080\n",
    "\n",
    "def start_server():\n",
    "    \"\"\"Start HTTP server in experiment directory\"\"\"\n",
    "    import os\n",
    "    os.chdir(EXPERIMENT_ROOT)\n",
    "\n",
    "    Handler = http.server.SimpleHTTPRequestHandler\n",
    "    httpd = socketserver.TCPServer((\"\", PORT), Handler)\n",
    "    httpd.serve_forever()\n",
    "\n",
    "# Start server in background thread\n",
    "print(f\"Starting HTTP server at {EXPERIMENT_ROOT}\")\n",
    "server_thread = threading.Thread(target=start_server, daemon=True)\n",
    "server_thread.start()\n",
    "\n",
    "# Give server time to start\n",
    "time.sleep(2)\n",
    "\n",
    "# Open experiment in browser\n",
    "experiment_url = f\"http://localhost:{PORT}/\"\n",
    "print(f\"Opening experiment at: {experiment_url}\")\n",
    "\n",
    "try:\n",
    "    webbrowser.open(experiment_url)\n",
    "    print(\"✅ Experiment opened in browser\")\n",
    "    print(f\"✅ HTTP server running on localhost:{PORT}\")\n",
    "except Exception as e:\n",
    "    print(f\"❌ Failed to open browser: {e}\")\n",
    "    print(f\"Please manually open: {experiment_url}\")\n",
    "\n",
    "print(f\"\\n💡 Note: Server serves files from {EXPERIMENT_ROOT}\")\n",
    "print(f\"💡 To stop server: restart the notebook kernel or run 'Kernel > Restart' in Jupyter\")"
   ]
  },
  {
   "cell_type": "markdown",
   "metadata": {},
   "source": [
    "### Next Steps\n",
    "\n",
    "1. Complete the entire experiment\n",
    "2. Check browser console for any errors\n",
    "3. At the end, verify data appears via `jsPsych.data.displayData()` or console output\n",
    "4. Return to this notebook when done testing\n",
    "5. Server will keep running until you restart this notebook kernel"
   ]
  },
  {
   "cell_type": "markdown",
   "metadata": {},
   "source": []
  }
 ],
 "metadata": {
  "kernelspec": {
   "display_name": "setup-experiment",
   "language": "python",
   "name": "python3"
  },
  "language_info": {
   "codemirror_mode": {
    "name": "ipython",
    "version": 3
   },
   "file_extension": ".py",
   "mimetype": "text/x-python",
   "name": "python",
   "nbconvert_exporter": "python",
   "pygments_lexer": "ipython3",
   "version": "3.12.11"
  }
 },
 "nbformat": 4,
 "nbformat_minor": 4
}
